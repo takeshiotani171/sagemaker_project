{
 "cells": [
  {
   "cell_type": "markdown",
   "id": "3e4dc150",
   "metadata": {},
   "source": [
    "# 画像分類AIアプリ\n",
    "___"
   ]
  },
  {
   "cell_type": "markdown",
   "id": "3a76e811",
   "metadata": {},
   "source": [
    "## S3バケット、Dockerを指定"
   ]
  },
  {
   "cell_type": "code",
   "execution_count": 1,
   "id": "ffc26d83",
   "metadata": {},
   "outputs": [
    {
     "name": "stdout",
     "output_type": "stream",
     "text": [
      "811284229777.dkr.ecr.us-east-1.amazonaws.com/image-classification:latest\n",
      "CPU times: user 739 ms, sys: 39.8 ms, total: 779 ms\n",
      "Wall time: 1.1 s\n"
     ]
    }
   ],
   "source": [
    "#1\n",
    "\n",
    "%%time\n",
    "import boto3\n",
    "import re\n",
    "from sagemaker import get_execution_role\n",
    "\n",
    "role = get_execution_role()\n",
    "\n",
    "bucket='sagemaker-binary-classification-3-3'\n",
    "\n",
    "containers = {'us-east-1': '811284229777.dkr.ecr.us-east-1.amazonaws.com/image-classification:latest'}\n",
    "training_image = containers[boto3.Session().region_name]\n",
    "print(training_image)"
   ]
  },
  {
   "cell_type": "markdown",
   "id": "c8ad30c4",
   "metadata": {},
   "source": [
    "## トレーニング用のパラメータを指定"
   ]
  },
  {
   "cell_type": "code",
   "execution_count": 3,
   "id": "97e033fa",
   "metadata": {},
   "outputs": [],
   "source": [
    "#2\n",
    "\n",
    "num_layers = 50\n",
    "\n",
    "image_shape = \"3,224,224\"\n",
    "\n",
    "num_training_samples = 1891 \n",
    "\n",
    "num_classes = 2\n",
    "\n",
    "mini_batch_size =  16 \n",
    "\n",
    "epochs = 10\n",
    "\n",
    "learning_rate = 0.01\n",
    "\n",
    "use_pretrained_model = 1\n",
    "\n",
    "optimizer = 'sgd'"
   ]
  },
  {
   "cell_type": "code",
   "execution_count": 5,
   "id": "bcd3a10d",
   "metadata": {},
   "outputs": [
    {
     "name": "stdout",
     "output_type": "stream",
     "text": [
      "Training job name: sagemaker-inst-2022-03-05-17-36-04\n",
      "\n",
      "Input Data Location: {'S3DataType': 'S3Prefix', 'S3Uri': 's3://sagemaker-binary-classification-3-3/train', 'S3DataDistributionType': 'FullyReplicated'}\n",
      "CPU times: user 59.8 ms, sys: 11.7 ms, total: 71.5 ms\n",
      "Wall time: 136 ms\n"
     ]
    }
   ],
   "source": [
    "#3\n",
    "\n",
    "%%time\n",
    "import time\n",
    "import boto3\n",
    "from time import gmtime, strftime\n",
    "\n",
    "\n",
    "s3 = boto3.client('s3')\n",
    "\n",
    "job_name_prefix = 'sagemaker-inst'\n",
    "timestamp = time.strftime('-%Y-%m-%d-%H-%M-%S', time.gmtime())\n",
    "job_name = job_name_prefix + timestamp\n",
    "training_params = \\\n",
    "{\n",
    "    \n",
    "    \"AlgorithmSpecification\": {\n",
    "        \"TrainingImage\": training_image,\n",
    "        \"TrainingInputMode\": \"File\"\n",
    "    },\n",
    "    \"RoleArn\": role,\n",
    "    \"OutputDataConfig\": {\n",
    "        \"S3OutputPath\": 's3://{}/{}/output'.format(bucket, job_name_prefix)\n",
    "    },\n",
    "    \"ResourceConfig\": {\n",
    "        \"InstanceCount\": 1,\n",
    "        \"InstanceType\": \"ml.p2.8xlarge\",\n",
    "        \"VolumeSizeInGB\": 50\n",
    "    },\n",
    "    \"TrainingJobName\": job_name,\n",
    "    \"HyperParameters\": {\n",
    "        \"image_shape\": image_shape,\n",
    "        \"num_layers\": str(num_layers),\n",
    "        \"num_training_samples\": str(num_training_samples),\n",
    "        \"num_classes\": str(num_classes),\n",
    "        \"mini_batch_size\": str(mini_batch_size),\n",
    "        \"epochs\": str(epochs),\n",
    "        \"learning_rate\": str(learning_rate),\n",
    "        \"use_pretrained_model\": str(use_pretrained_model)\n",
    "    },\n",
    "    \"StoppingCondition\": {\n",
    "        \"MaxRuntimeInSeconds\": 360000\n",
    "    },\n",
    "\n",
    "    \"InputDataConfig\": [\n",
    "        {\n",
    "            \"ChannelName\": \"train\",\n",
    "            \"DataSource\": {\n",
    "                \"S3DataSource\": {\n",
    "                    \"S3DataType\": \"S3Prefix\",\n",
    "                    \"S3Uri\": 's3://{}/train'.format(bucket),\n",
    "                    \"S3DataDistributionType\": \"FullyReplicated\"\n",
    "                }\n",
    "            },\n",
    "            \"ContentType\": \"application/x-recordio\",\n",
    "            \"CompressionType\": \"None\"\n",
    "        },\n",
    "        {\n",
    "            \"ChannelName\": \"validation\",\n",
    "            \"DataSource\": {\n",
    "                \"S3DataSource\": {\n",
    "                    \"S3DataType\": \"S3Prefix\",\n",
    "                    \"S3Uri\": 's3://{}/validation'.format(bucket),\n",
    "                    \"S3DataDistributionType\": \"FullyReplicated\"\n",
    "                }\n",
    "            },\n",
    "            \"ContentType\": \"application/x-recordio\",\n",
    "            \"CompressionType\": \"None\"\n",
    "        }\n",
    "    ]\n",
    "}\n",
    "print('Training job name: {}'.format(job_name))\n",
    "print('\\nInput Data Location: {}'.format(training_params['InputDataConfig'][0]['DataSource']['S3DataSource']))"
   ]
  },
  {
   "cell_type": "markdown",
   "id": "12a7aa35",
   "metadata": {},
   "source": [
    "## トレーニングの開始"
   ]
  },
  {
   "cell_type": "code",
   "execution_count": 6,
   "id": "c128e506",
   "metadata": {},
   "outputs": [
    {
     "name": "stdout",
     "output_type": "stream",
     "text": [
      "Training job current status: InProgress\n",
      "Training job ended with status: Completed\n"
     ]
    }
   ],
   "source": [
    "#4\n",
    "\n",
    "sagemaker = boto3.client(service_name='sagemaker')\n",
    "sagemaker.create_training_job(**training_params)\n",
    "\n",
    "status = sagemaker.describe_training_job(TrainingJobName=job_name)['TrainingJobStatus']\n",
    "print('Training job current status: {}'.format(status))\n",
    "\n",
    "try:\n",
    "    sagemaker.get_waiter('training_job_completed_or_stopped').wait(TrainingJobName=job_name)\n",
    "    training_info = sagemaker.describe_training_job(TrainingJobName=job_name)\n",
    "    status = training_info['TrainingJobStatus']\n",
    "    print(\"Training job ended with status: \" + status)\n",
    "except:\n",
    "    print('Training failed to start')\n",
    "    message = sagemaker.describe_training_job(TrainingJobName=job_name)['FailureReason']\n",
    "    print('Training failed with the following error: {}'.format(message))\n"
   ]
  },
  {
   "cell_type": "code",
   "execution_count": 7,
   "id": "2552f6e9",
   "metadata": {},
   "outputs": [
    {
     "name": "stdout",
     "output_type": "stream",
     "text": [
      "Training job ended with status: Completed\n"
     ]
    }
   ],
   "source": [
    "#5\n",
    "\n",
    "training_info = sagemaker.describe_training_job(TrainingJobName=job_name)\n",
    "status = training_info['TrainingJobStatus']\n",
    "print(\"Training job ended with status: \" + status)"
   ]
  },
  {
   "cell_type": "markdown",
   "id": "ac7928c1",
   "metadata": {},
   "source": [
    "### トレインデータと検証データの精度確認"
   ]
  },
  {
   "cell_type": "code",
   "execution_count": 10,
   "id": "b22ac893",
   "metadata": {},
   "outputs": [
    {
     "name": "stdout",
     "output_type": "stream",
     "text": [
      "Maximum validation accuracy: 0.924107 \n"
     ]
    },
    {
     "data": {
      "text/plain": [
       "<Figure size 432x288 with 0 Axes>"
      ]
     },
     "metadata": {},
     "output_type": "display_data"
    },
    {
     "data": {
      "image/png": "[encoded data removed]",
      "text/plain": [
       "<Figure size 432x288 with 1 Axes>"
      ]
     },
     "metadata": {
      "needs_background": "light"
     },
     "output_type": "display_data"
    }
   ],
   "source": [
    "#6\n",
    "\n",
    "import boto3\n",
    "import matplotlib.pyplot as plt\n",
    "import matplotlib.ticker as ticker\n",
    "import numpy as np\n",
    "\n",
    "client = boto3.client('logs')\n",
    "\n",
    "lgn='/aws/sagemaker/TrainingJobs'\n",
    "\n",
    "lsn=job_name+'/'+'algo-1-1646501929'\n",
    "log=client.get_log_events(logGroupName=lgn, logStreamName=lsn)\n",
    "\n",
    "trn_accs=[]\n",
    "val_accs=[]\n",
    "for e in log['events']:\n",
    "  msg=e['message']\n",
    "  if 'Validation-accuracy' in msg:\n",
    "        val = msg.split(\"=\")\n",
    "        val = val[1]\n",
    "        val_accs.append(float(val))\n",
    "  if 'Train-accuracy' in msg:\n",
    "        trn = msg.split(\"=\")\n",
    "        trn = trn[1]\n",
    "        trn_accs.append(float(trn))\n",
    "\n",
    "print(\"Maximum validation accuracy: %f \" % max(val_accs))\n",
    "plt.clf()\n",
    "fig, ax = plt.subplots()\n",
    "plt.xlabel('Epochs')\n",
    "plt.ylabel('Accuracy')\n",
    "trn_plot, = ax.plot(range(epochs), trn_accs, label=\"Training accuracy\")\n",
    "val_plot, = ax.plot(range(epochs), val_accs, label=\"Validation accuracy\")\n",
    "plt.legend(handles=[trn_plot,val_plot])\n",
    "ax.yaxis.set_ticks(np.arange(0.4, 1.05, 0.05))\n",
    "ax.yaxis.set_major_formatter(ticker.FormatStrFormatter('%0.2f'))\n",
    "plt.show()\n"
   ]
  },
  {
   "cell_type": "markdown",
   "id": "71322743",
   "metadata": {},
   "source": [
    "### 推論"
   ]
  },
  {
   "cell_type": "markdown",
   "id": "4f79b1b6",
   "metadata": {},
   "source": [
    "### モデル作成"
   ]
  },
  {
   "cell_type": "code",
   "execution_count": 11,
   "id": "7616548b",
   "metadata": {},
   "outputs": [
    {
     "name": "stdout",
     "output_type": "stream",
     "text": [
      "image-classification-cifar-transfer\n",
      "s3://sagemaker-binary-classification-3-3/sagemaker-inst/output/sagemaker-inst-2022-03-05-17-36-04/output/model.tar.gz\n",
      "arn:aws:sagemaker:us-east-1:651239393195:model/image-classification-cifar-transfer\n",
      "CPU times: user 78 ms, sys: 24.8 ms, total: 103 ms\n",
      "Wall time: 564 ms\n"
     ]
    }
   ],
   "source": [
    "#7\n",
    "\n",
    "%%time\n",
    "import boto3\n",
    "from time import gmtime, strftime\n",
    "\n",
    "sage = boto3.Session().client(service_name='sagemaker') \n",
    "\n",
    "model_name=\"image-classification-cifar-transfer\"\n",
    "print(model_name)\n",
    "info = sage.describe_training_job(TrainingJobName=job_name)\n",
    "model_data = info['ModelArtifacts']['S3ModelArtifacts']\n",
    "print(model_data)\n",
    "containers = {'us-east-1': '811284229777.dkr.ecr.us-east-1.amazonaws.com/image-classification:latest'}\n",
    "hosting_image = containers[boto3.Session().region_name]\n",
    "primary_container = {\n",
    "    'Image': hosting_image,\n",
    "    'ModelDataUrl': model_data,\n",
    "}\n",
    "\n",
    "create_model_response = sage.create_model(\n",
    "    ModelName = model_name,\n",
    "    ExecutionRoleArn = role,\n",
    "    PrimaryContainer = primary_container)\n",
    "\n",
    "print(create_model_response['ModelArn'])"
   ]
  },
  {
   "cell_type": "markdown",
   "id": "10467896",
   "metadata": {},
   "source": [
    "### エンドポイントの設定"
   ]
  },
  {
   "cell_type": "code",
   "execution_count": 12,
   "id": "ec631d32",
   "metadata": {},
   "outputs": [
    {
     "name": "stdout",
     "output_type": "stream",
     "text": [
      "Endpoint configuration name: sagemaker-inst-epc--2022-03-05-17-46-55\n",
      "Endpoint configuration arn:  arn:aws:sagemaker:us-east-1:651239393195:endpoint-config/sagemaker-inst-epc--2022-03-05-17-46-55\n"
     ]
    }
   ],
   "source": [
    "#8\n",
    "\n",
    "from time import gmtime, strftime\n",
    "\n",
    "timestamp = time.strftime('-%Y-%m-%d-%H-%M-%S', time.gmtime())\n",
    "endpoint_config_name = job_name_prefix + '-epc-' + timestamp\n",
    "endpoint_config_response = sage.create_endpoint_config(\n",
    "    EndpointConfigName = endpoint_config_name,\n",
    "    ProductionVariants=[{\n",
    "        'InstanceType':'ml.m4.xlarge',\n",
    "        'InitialInstanceCount':1,\n",
    "        'ModelName':model_name,\n",
    "        'VariantName':'AllTraffic'}])\n",
    "\n",
    "print('Endpoint configuration name: {}'.format(endpoint_config_name))\n",
    "print('Endpoint configuration arn:  {}'.format(endpoint_config_response['EndpointConfigArn']))"
   ]
  },
  {
   "cell_type": "markdown",
   "id": "35804fe3",
   "metadata": {},
   "source": [
    "### エンドポイントの作成"
   ]
  },
  {
   "cell_type": "code",
   "execution_count": 13,
   "id": "39af6d0d",
   "metadata": {},
   "outputs": [
    {
     "name": "stdout",
     "output_type": "stream",
     "text": [
      "Endpoint name: sagemaker-inst-ep--2022-03-05-17-46-55\n",
      "EndpointArn = arn:aws:sagemaker:us-east-1:651239393195:endpoint/sagemaker-inst-ep--2022-03-05-17-46-55\n",
      "CPU times: user 15.4 ms, sys: 186 µs, total: 15.6 ms\n",
      "Wall time: 336 ms\n"
     ]
    }
   ],
   "source": [
    "#9\n",
    "\n",
    "%%time\n",
    "import time\n",
    "\n",
    "timestamp = time.strftime('-%Y-%m-%d-%H-%M-%S', time.gmtime())\n",
    "endpoint_name = job_name_prefix + '-ep-' + timestamp\n",
    "print('Endpoint name: {}'.format(endpoint_name))\n",
    "\n",
    "endpoint_params = {\n",
    "    'EndpointName': endpoint_name,\n",
    "    'EndpointConfigName': endpoint_config_name,\n",
    "}\n",
    "endpoint_response = sagemaker.create_endpoint(**endpoint_params)\n",
    "print('EndpointArn = {}'.format(endpoint_response['EndpointArn']))"
   ]
  },
  {
   "cell_type": "code",
   "execution_count": 14,
   "id": "257e1e9f",
   "metadata": {},
   "outputs": [
    {
     "name": "stdout",
     "output_type": "stream",
     "text": [
      "EndpointStatus = Creating\n",
      "Endpoint creation ended with EndpointStatus = InService\n"
     ]
    }
   ],
   "source": [
    "#10\n",
    "\n",
    "response = sagemaker.describe_endpoint(EndpointName=endpoint_name)\n",
    "status = response['EndpointStatus']\n",
    "print('EndpointStatus = {}'.format(status))\n",
    "\n",
    "sagemaker.get_waiter('endpoint_in_service').wait(EndpointName=endpoint_name)\n",
    "\n",
    "endpoint_response = sagemaker.describe_endpoint(EndpointName=endpoint_name)\n",
    "status = endpoint_response['EndpointStatus']\n",
    "print('Endpoint creation ended with EndpointStatus = {}'.format(status))\n",
    "\n",
    "if status != 'InService':\n",
    "    raise Exception('Endpoint creation failed.')"
   ]
  },
  {
   "cell_type": "markdown",
   "id": "e1a56280",
   "metadata": {},
   "source": [
    "### テストデータを使って精度確認"
   ]
  },
  {
   "cell_type": "code",
   "execution_count": 15,
   "id": "858b8c8f",
   "metadata": {},
   "outputs": [],
   "source": [
    "#11\n",
    "mport boto3\n",
    "runtime = boto3.Session().client(service_name='runtime.sagemaker') "
   ]
  },
  {
   "cell_type": "code",
   "execution_count": 18,
   "id": "c89f8e6f",
   "metadata": {},
   "outputs": [],
   "source": [
    "#12\n",
    "s3_client = boto3.client('s3')\n",
    "data_bucket_name='sagemaker-binary-classification-3-3'"
   ]
  },
  {
   "cell_type": "code",
   "execution_count": 19,
   "id": "dfceff51",
   "metadata": {},
   "outputs": [],
   "source": [
    "#13\n",
    "obj_list=s3_client.list_objects(Bucket=data_bucket_name)"
   ]
  },
  {
   "cell_type": "code",
   "execution_count": 148,
   "id": "48332190",
   "metadata": {},
   "outputs": [],
   "source": [
    "#14\n",
    "test_img_list=[]\n",
    "test_label_list=[]\n",
    "test_label_list_num=[]\n",
    "for contents in obj_list['Contents']:\n",
    "    if contents['Key'].split('/')[1] == 'guitar':\n",
    "        test_img_list.append(contents['Key'])\n",
    "        test_label_list.append( 'guitar')\n",
    "        test_label_list_num.append(0)\n",
    "    elif contents['Key'].split('/')[1] == 'others':\n",
    "        test_img_list.append(contents['Key'])\n",
    "        test_label_list.append('others')\n",
    "        test_label_list_num.append(1)"
   ]
  },
  {
   "cell_type": "code",
   "execution_count": 72,
   "id": "4494cfda",
   "metadata": {},
   "outputs": [
    {
     "data": {
      "text/plain": [
       "['test/guitar/07zO2agX-41.jpg',\n",
       " 'test/guitar/07zO2agX-42.jpg',\n",
       " 'test/guitar/07zO2agX-43.jpg',\n",
       " 'test/guitar/07zO2agX-44.jpg',\n",
       " 'test/guitar/07zO2agX-45.jpg']"
      ]
     },
     "execution_count": 72,
     "metadata": {},
     "output_type": "execute_result"
    }
   ],
   "source": [
    "#15\n",
    "test_img_list[:5]"
   ]
  },
  {
   "cell_type": "code",
   "execution_count": 73,
   "id": "f5a0e3b8",
   "metadata": {},
   "outputs": [
    {
     "data": {
      "text/plain": [
       "['guitar', 'guitar', 'guitar', 'guitar', 'guitar']"
      ]
     },
     "execution_count": 73,
     "metadata": {},
     "output_type": "execute_result"
    }
   ],
   "source": [
    "#16\n",
    "test_label_list[:5]"
   ]
  },
  {
   "cell_type": "code",
   "execution_count": 158,
   "id": "1422a934",
   "metadata": {},
   "outputs": [
    {
     "data": {
      "text/plain": [
       "[0, 0, 0, 0, 0]"
      ]
     },
     "execution_count": 158,
     "metadata": {},
     "output_type": "execute_result"
    }
   ],
   "source": [
    "#17\n",
    "test_label_list_num[:5]"
   ]
  },
  {
   "cell_type": "code",
   "execution_count": 132,
   "id": "bd66f732",
   "metadata": {},
   "outputs": [],
   "source": [
    "#18\n",
    "from PIL import Image\n",
    "from sklearn import model_selection\n",
    "import io\n",
    "import json\n",
    "import numpy as np\n",
    "import seaborn as sns\n",
    "\n",
    "def predict(test_img):\n",
    "    response = s3_client.get_object(Bucket=data_bucket_name, Key=test_img)\n",
    "    response_body = response[\"Body\"].read()\n",
    "    payload = bytearray(response_body)\n",
    "    response = runtime.invoke_endpoint(EndpointName=endpoint_name, \n",
    "                                   ContentType='application/x-image', \n",
    "                                   Body=payload )\n",
    "    result = response['Body'].read()\n",
    "    result = json.loads(result)\n",
    "    index = np.argmax(result)\n",
    "    object_categories = ['guitar','others']\n",
    "    return  object_categories[index], result[1]"
   ]
  },
  {
   "cell_type": "code",
   "execution_count": 136,
   "id": "009de03d",
   "metadata": {},
   "outputs": [],
   "source": [
    "#19\n",
    "test_pred_list = []\n",
    "test_proba_others_list = []\n",
    "for img  in test_img_list:\n",
    "    predict_label,  predict_proba_others = predict(img)\n",
    "    test_pred_list.append(predict_label) \n",
    "    test_proba_others_list.append(predict_proba_others)"
   ]
  },
  {
   "cell_type": "code",
   "execution_count": 138,
   "id": "89d6fbeb",
   "metadata": {},
   "outputs": [],
   "source": [
    "#20\n",
    "import sklearn.metrics as me\n",
    "cf_matrix = me.confusion_matrix(test_label_list, test_pred_list) "
   ]
  },
  {
   "cell_type": "code",
   "execution_count": 139,
   "id": "b05d7784",
   "metadata": {},
   "outputs": [
    {
     "data": {
      "text/plain": [
       "array([[95,  5],\n",
       "       [ 8, 92]])"
      ]
     },
     "execution_count": 139,
     "metadata": {},
     "output_type": "execute_result"
    }
   ],
   "source": [
    "#21\n",
    "cf_matrix"
   ]
  },
  {
   "cell_type": "code",
   "execution_count": 140,
   "id": "44f4a9da",
   "metadata": {},
   "outputs": [],
   "source": [
    "#22\n",
    "def plot_confusion_matrix(data, labels):\n",
    "    sns.set(color_codes=True)\n",
    "    plt.figure(1, figsize=(12, 8))\n",
    " \n",
    "    plt.title(\"Confusion Matrix\",  fontsize=18)\n",
    " \n",
    "    sns.set(font_scale=1.4)\n",
    "    ax = sns.heatmap(data, annot=True, cmap=\"YlGnBu\", cbar_kws={'label': 'Scale'})\n",
    " \n",
    "    ax.set_xticklabels(labels, fontsize=18)\n",
    "    ax.set_yticklabels(labels, fontsize=18)\n",
    " \n",
    "    ax.set(ylabel=\"True Label\", xlabel=\"Predicted Label\")\n",
    " "
   ]
  },
  {
   "cell_type": "code",
   "execution_count": 142,
   "id": "bbec4432",
   "metadata": {},
   "outputs": [
    {
     "data": {
      "image/png": "[encoded data removed]",
      "text/plain": [
       "<Figure size 864x576 with 2 Axes>"
      ]
     },
     "metadata": {},
     "output_type": "display_data"
    }
   ],
   "source": [
    "#23\n",
    "labels = ['guitar','others']\n",
    "plot_confusion_matrix(cf_matrix, labels)"
   ]
  },
  {
   "cell_type": "code",
   "execution_count": 143,
   "id": "d6fa9e16",
   "metadata": {},
   "outputs": [
    {
     "name": "stdout",
     "output_type": "stream",
     "text": [
      "              precision    recall  f1-score   support\n",
      "\n",
      "      guitar       0.92      0.95      0.94       100\n",
      "      others       0.95      0.92      0.93       100\n",
      "\n",
      "    accuracy                           0.94       200\n",
      "   macro avg       0.94      0.94      0.93       200\n",
      "weighted avg       0.94      0.94      0.93       200\n",
      "\n"
     ]
    }
   ],
   "source": [
    "#24\n",
    "from sklearn.metrics import classification_report\n",
    "print(classification_report(test_label_list, test_pred_list))"
   ]
  },
  {
   "cell_type": "code",
   "execution_count": 155,
   "id": "200aef06",
   "metadata": {},
   "outputs": [
    {
     "name": "stdout",
     "output_type": "stream",
     "text": [
      "AUC 　: 0.9834\n"
     ]
    },
    {
     "data": {
      "image/png": "[encoded data removed]",
      "text/plain": [
       "<Figure size 576x432 with 1 Axes>"
      ]
     },
     "metadata": {},
     "output_type": "display_data"
    }
   ],
   "source": [
    "#25\n",
    "from sklearn.metrics import roc_auc_score\n",
    "auc_score = roc_auc_score(test_label_list_num, test_proba_others_list)\n",
    "print('AUC : {}'.format(auc_score))\n",
    "\n",
    "fpr_all, tpr_all, th_all  = me.roc_curve(test_label_list_num, test_proba_others_list, pos_label=1)\n",
    "\n",
    "plt.figure(figsize=(8,6))\n",
    "plt.plot(fpr_all, tpr_all, marker='o')\n",
    "plt.xlabel('FPR: False positive rate')\n",
    "plt.ylabel('TPR: True positive rate')\n",
    "plt.grid()"
   ]
  }
 ],
 "metadata": {
  "kernelspec": {
   "display_name": "conda_mxnet_p36",
   "language": "python",
   "name": "conda_mxnet_p36"
  },
  "language_info": {
   "codemirror_mode": {
    "name": "ipython",
    "version": 3
   },
   "file_extension": ".py",
   "mimetype": "text/x-python",
   "name": "python",
   "nbconvert_exporter": "python",
   "pygments_lexer": "ipython3",
   "version": "3.6.13"
  }
 },
 "nbformat": 4,
 "nbformat_minor": 5
}
